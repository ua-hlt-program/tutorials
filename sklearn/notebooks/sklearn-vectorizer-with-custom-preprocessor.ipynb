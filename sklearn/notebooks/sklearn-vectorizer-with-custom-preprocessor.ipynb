{
 "cells": [
  {
   "cell_type": "code",
   "execution_count": 1,
   "metadata": {},
   "outputs": [],
   "source": [
    "from sklearn.feature_extraction.text import TfidfVectorizer\n",
    "import typing\n",
    "import re"
   ]
  },
  {
   "cell_type": "markdown",
   "metadata": {},
   "source": [
    "## Normalize text using a custom preprocessor"
   ]
  },
  {
   "cell_type": "code",
   "execution_count": 2,
   "metadata": {},
   "outputs": [],
   "source": [
    "# for details on the docstring format used for this function, \n",
    "# see https://www.sphinx-doc.org/en/master/usage/restructuredtext/domains.html#python-signatures\n",
    "\n",
    "def text_normalizer(text: str) -> str:\n",
    "    '''\n",
    "    Normalizes text (ex. $42.32 -> CURRENCY).\n",
    "    \n",
    "    :param str text: The raw text to be normalized\n",
    "    :return: normalized text\n",
    "    :rtype: str\n",
    "    '''\n",
    "    normalized = text.lower()\n",
    "\n",
    "    CURRENCY   = re.compile(\"\\$\\d[\\d,]*\\.?\\d{0,2}\")\n",
    "    URL        = re.compile(\"https?://[^\\s]+?(?=\\.?$|[\\.,]\\s)\")\n",
    "\n",
    "    normalized = re.sub(pattern=CURRENCY, repl=\"CURRENCY\", string=normalized)\n",
    "    normalized = re.sub(pattern=URL, repl=\"URL\", string=normalized)\n",
    "    \n",
    "    normalized = normalized.strip()\n",
    "    return normalized"
   ]
  },
  {
   "cell_type": "code",
   "execution_count": 3,
   "metadata": {},
   "outputs": [
    {
     "data": {
      "text/plain": [
       "\"it's going to cost you CURRENCY or more.  send a payment to URL.\""
      ]
     },
     "execution_count": 3,
     "metadata": {},
     "output_type": "execute_result"
    }
   ],
   "source": [
    "# test our normalizer\n",
    "text_normalizer(\"It's going to cost you $23,030.12 or more.  Send a payment to http://scam-you-later.com.\")"
   ]
  },
  {
   "cell_type": "markdown",
   "metadata": {},
   "source": [
    "## Create our TF-IDF vectorizer\n",
    "\n",
    "We'll register our `text_normalizer` with an instance of [`TfidfVectorizer`](https://scikit-learn.org/stable/modules/generated/sklearn.feature_extraction.text.TfidfVectorizer.html)."
   ]
  },
  {
   "cell_type": "code",
   "execution_count": 4,
   "metadata": {},
   "outputs": [],
   "source": [
    "vectorizer = TfidfVectorizer(\n",
    "        encoding='utf-8',\n",
    "        # let's register our custom normalization function\n",
    "        preprocessor=text_normalizer,\n",
    "        stop_words=None, \n",
    "        # we'll use word n-grams \n",
    "        # from size 1 (unigrams) to 3 (trigrams)\n",
    "        ngram_range=(1, 3), \n",
    "        binary=False, \n",
    "        use_idf=True\n",
    ")"
   ]
  },
  {
   "cell_type": "code",
   "execution_count": 7,
   "metadata": {},
   "outputs": [],
   "source": [
    "docs_train = [\n",
    "    \"It's going to cost you $23,030.12 or more.\", \n",
    "    \"He charged me $10 for that banana.\", \n",
    "    \"Check this out: http://house-elves.com\"\n",
    "]"
   ]
  },
  {
   "cell_type": "markdown",
   "metadata": {},
   "source": [
    "Fit the provided toy data.  This is where we determine our vocabulary, IDF scores, etc.\n",
    "\n",
    "Note that we will **not** fit again on our test data.  _We only calculate our vocabulary/features on our training data._"
   ]
  },
  {
   "cell_type": "code",
   "execution_count": 6,
   "metadata": {},
   "outputs": [
    {
     "data": {
      "text/plain": [
       "TfidfVectorizer(ngram_range=(1, 3),\n",
       "                preprocessor=<function text_normalizer at 0x7f7590312ee0>)"
      ]
     },
     "execution_count": 6,
     "metadata": {},
     "output_type": "execute_result"
    }
   ],
   "source": [
    "vectorizer.fit(docs_train)"
   ]
  },
  {
   "cell_type": "markdown",
   "metadata": {},
   "source": [
    "`.fit()` assigns each unique feature an ID that corresponds to its position in any feature vector we later generate using the `.transform()` method of our vectorizer."
   ]
  },
  {
   "cell_type": "markdown",
   "metadata": {},
   "source": [
    "## Feature vocabulary"
   ]
  },
  {
   "cell_type": "markdown",
   "metadata": {},
   "source": [
    "`TfidfVectorizer` provides a vocabulary mapping (`item` $\\rightarrow$ `index`)."
   ]
  },
  {
   "cell_type": "code",
   "execution_count": 6,
   "metadata": {},
   "outputs": [
    {
     "data": {
      "text/plain": [
       "{'it': 25,\n",
       " 'going': 19,\n",
       " 'to': 41,\n",
       " 'cost': 13,\n",
       " 'you': 44,\n",
       " 'CURRENCY': 0,\n",
       " 'or': 32,\n",
       " 'more': 31,\n",
       " 'it going': 26,\n",
       " 'going to': 20,\n",
       " 'to cost': 42,\n",
       " 'cost you': 14,\n",
       " 'you CURRENCY': 45,\n",
       " 'CURRENCY or': 3,\n",
       " 'or more': 33,\n",
       " 'it going to': 27,\n",
       " 'going to cost': 21,\n",
       " 'to cost you': 43,\n",
       " 'cost you CURRENCY': 15,\n",
       " 'you CURRENCY or': 46,\n",
       " 'CURRENCY or more': 4,\n",
       " 'he': 22,\n",
       " 'charged': 7,\n",
       " 'me': 28,\n",
       " 'for': 16,\n",
       " 'that': 36,\n",
       " 'banana': 6,\n",
       " 'he charged': 23,\n",
       " 'charged me': 8,\n",
       " 'me CURRENCY': 29,\n",
       " 'CURRENCY for': 1,\n",
       " 'for that': 17,\n",
       " 'that banana': 37,\n",
       " 'he charged me': 24,\n",
       " 'charged me CURRENCY': 9,\n",
       " 'me CURRENCY for': 30,\n",
       " 'CURRENCY for that': 2,\n",
       " 'for that banana': 18,\n",
       " 'check': 10,\n",
       " 'this': 38,\n",
       " 'out': 34,\n",
       " 'URL': 5,\n",
       " 'check this': 11,\n",
       " 'this out': 39,\n",
       " 'out URL': 35,\n",
       " 'check this out': 12,\n",
       " 'this out URL': 40}"
      ]
     },
     "execution_count": 6,
     "metadata": {},
     "output_type": "execute_result"
    }
   ],
   "source": [
    "vectorizer.vocabulary_"
   ]
  },
  {
   "cell_type": "markdown",
   "metadata": {},
   "source": [
    "Let's apply our vectorizer to some data using `.transform()`.\n",
    "\n",
    "**QUESTION**: _Why shouldn't you use `fit()` or `fit_transform()` here?_"
   ]
  },
  {
   "cell_type": "code",
   "execution_count": 7,
   "metadata": {},
   "outputs": [
    {
     "data": {
      "text/plain": [
       "matrix([[0.16765177, 0.        , 0.        , 0.22044193, 0.22044193,\n",
       "         0.        , 0.        , 0.        , 0.        , 0.        ,\n",
       "         0.        , 0.        , 0.        , 0.22044193, 0.22044193,\n",
       "         0.22044193, 0.        , 0.        , 0.        , 0.22044193,\n",
       "         0.22044193, 0.22044193, 0.        , 0.        , 0.        ,\n",
       "         0.22044193, 0.22044193, 0.22044193, 0.        , 0.        ,\n",
       "         0.        , 0.22044193, 0.22044193, 0.22044193, 0.        ,\n",
       "         0.        , 0.        , 0.        , 0.        , 0.        ,\n",
       "         0.        , 0.22044193, 0.22044193, 0.22044193, 0.22044193,\n",
       "         0.22044193, 0.22044193],\n",
       "        [0.        , 0.        , 0.        , 0.        , 0.        ,\n",
       "         1.        , 0.        , 0.        , 0.        , 0.        ,\n",
       "         0.        , 0.        , 0.        , 0.        , 0.        ,\n",
       "         0.        , 0.        , 0.        , 0.        , 0.        ,\n",
       "         0.        , 0.        , 0.        , 0.        , 0.        ,\n",
       "         0.        , 0.        , 0.        , 0.        , 0.        ,\n",
       "         0.        , 0.        , 0.        , 0.        , 0.        ,\n",
       "         0.        , 0.        , 0.        , 0.        , 0.        ,\n",
       "         0.        , 0.        , 0.        , 0.        , 0.        ,\n",
       "         0.        , 0.        ]])"
      ]
     },
     "execution_count": 7,
     "metadata": {},
     "output_type": "execute_result"
    }
   ],
   "source": [
    "vectorizer.transform(\n",
    "    [\n",
    "        \"It's going to cost you $23,030.12 or more.\", \n",
    "        \"Pay here: http://super-sketchy-site.info\"\n",
    "    ]\n",
    ").todense()"
   ]
  },
  {
   "cell_type": "markdown",
   "metadata": {},
   "source": [
    "## Unknown features"
   ]
  },
  {
   "cell_type": "markdown",
   "metadata": {},
   "source": [
    "What happens if we pass a datum composed soley of unseen/unknown features?"
   ]
  },
  {
   "cell_type": "code",
   "execution_count": 8,
   "metadata": {},
   "outputs": [
    {
     "data": {
      "text/plain": [
       "matrix([[0., 0., 0., 0., 0., 0., 0., 0., 0., 0., 0., 0., 0., 0., 0., 0.,\n",
       "         0., 0., 0., 0., 0., 0., 0., 0., 0., 0., 0., 0., 0., 0., 0., 0.,\n",
       "         0., 0., 0., 0., 0., 0., 0., 0., 0., 0., 0., 0., 0., 0., 0.]])"
      ]
     },
     "execution_count": 8,
     "metadata": {},
     "output_type": "execute_result"
    }
   ],
   "source": [
    "vectorizer.transform([\"ZAMBORTANI DIEMPO\"]).todense()"
   ]
  },
  {
   "cell_type": "code",
   "execution_count": 9,
   "metadata": {},
   "outputs": [
    {
     "data": {
      "text/plain": [
       "matrix([[0., 0., 0., 0., 0., 0., 0., 0., 0., 0., 0., 0., 0., 0., 0., 0.,\n",
       "         0., 0., 0., 0., 0., 0., 0., 0., 0., 0., 0., 0., 0., 0., 0., 0.,\n",
       "         0., 0., 0., 0., 0., 0., 0., 0., 0., 0., 0., 0., 0., 0., 0.]])"
      ]
     },
     "execution_count": 9,
     "metadata": {},
     "output_type": "execute_result"
    }
   ],
   "source": [
    "vectorizer.transform([\"Kltpzyxm\"]).todense()"
   ]
  },
  {
   "cell_type": "code",
   "execution_count": 10,
   "metadata": {},
   "outputs": [
    {
     "data": {
      "text/plain": [
       "matrix([[1., 0., 0., 0., 0., 0., 0., 0., 0., 0., 0., 0., 0., 0., 0., 0.,\n",
       "         0., 0., 0., 0., 0., 0., 0., 0., 0., 0., 0., 0., 0., 0., 0., 0.,\n",
       "         0., 0., 0., 0., 0., 0., 0., 0., 0., 0., 0., 0., 0., 0., 0.]])"
      ]
     },
     "execution_count": 10,
     "metadata": {},
     "output_type": "execute_result"
    }
   ],
   "source": [
    "vectorizer.transform([\"$20.00\"]).todense()"
   ]
  },
  {
   "cell_type": "markdown",
   "metadata": {},
   "source": [
    "**QUESTION**: _Why is it that calling `.transform()` on either **ZAMBORTANI DIEMPO** or **Klptzyxm** results in vectors of the same length?_\n",
    "\n",
    "**QUESTION**: _Why are all values in both **ZAMBORTANI DIEMPO** and **Klptzyxm** vectors 0?_"
   ]
  },
  {
   "cell_type": "markdown",
   "metadata": {},
   "source": [
    "# scores -> features"
   ]
  },
  {
   "cell_type": "markdown",
   "metadata": {},
   "source": [
    "For ease of inspection, let's create a reverse mapping from (`index` $\\rightarrow$ `item`)."
   ]
  },
  {
   "cell_type": "code",
   "execution_count": 11,
   "metadata": {},
   "outputs": [],
   "source": [
    "i2v = dict((i, v) for (v, i) in vectorizer.vocabulary_.items())"
   ]
  },
  {
   "cell_type": "code",
   "execution_count": 12,
   "metadata": {},
   "outputs": [
    {
     "data": {
      "text/plain": [
       "'CURRENCY'"
      ]
     },
     "execution_count": 12,
     "metadata": {},
     "output_type": "execute_result"
    }
   ],
   "source": [
    "# what is the feature in the first position (index=0)?\n",
    "i2v[0]"
   ]
  },
  {
   "cell_type": "code",
   "execution_count": 13,
   "metadata": {},
   "outputs": [
    {
     "data": {
      "text/plain": [
       "'URL'"
      ]
     },
     "execution_count": 13,
     "metadata": {},
     "output_type": "execute_result"
    }
   ],
   "source": [
    "# what is the feature in the sixth position (index=5)?\n",
    "i2v[5]"
   ]
  },
  {
   "cell_type": "markdown",
   "metadata": {},
   "source": [
    "Alternatively, we can transform some data and then map it back to feature names (note the use of `.todense()` here) to guarantee that the first element in each array corresponds to the `index=0` feature in our vocabulary."
   ]
  },
  {
   "cell_type": "code",
   "execution_count": 14,
   "metadata": {},
   "outputs": [
    {
     "data": {
      "text/plain": [
       "[array(['CURRENCY', 'CURRENCY or', 'CURRENCY or more', 'cost', 'cost you',\n",
       "        'cost you CURRENCY', 'going', 'going to', 'going to cost', 'it',\n",
       "        'it going', 'it going to', 'more', 'or', 'or more', 'to',\n",
       "        'to cost', 'to cost you', 'you', 'you CURRENCY', 'you CURRENCY or'],\n",
       "       dtype='<U19')]"
      ]
     },
     "execution_count": 14,
     "metadata": {},
     "output_type": "execute_result"
    }
   ],
   "source": [
    "vectorizer.inverse_transform(\n",
    "    vectorizer.transform([\"It's going to cost you $23,030.12 or more.\"]).todense()\n",
    ")"
   ]
  }
 ],
 "metadata": {
  "kernelspec": {
   "display_name": "Python 3",
   "language": "python",
   "name": "python3"
  },
  "language_info": {
   "codemirror_mode": {
    "name": "ipython",
    "version": 3
   },
   "file_extension": ".py",
   "mimetype": "text/x-python",
   "name": "python",
   "nbconvert_exporter": "python",
   "pygments_lexer": "ipython3",
   "version": "3.8.8"
  }
 },
 "nbformat": 4,
 "nbformat_minor": 2
}
